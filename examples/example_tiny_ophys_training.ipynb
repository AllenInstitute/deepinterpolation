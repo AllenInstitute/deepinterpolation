{
  "cells": [
    {
      "cell_type": "markdown",
      "metadata": {
        "id": "4M_eJxepJjMU"
      },
      "source": [
        "We first get necessary external data and code"
      ]
    },
    {
      "cell_type": "code",
      "execution_count": 82,
      "metadata": {
        "colab": {
          "base_uri": "https://localhost:8080/"
        },
        "id": "DhfkEfaoA9eT",
        "outputId": "f72d6bd2-e387-41e4-c951-a37a0593e225"
      },
      "outputs": [
        {
          "name": "stdout",
          "output_type": "stream",
          "text": [
            "fatal: destination path 'deepinterpolation' already exists and is not an empty directory.\n",
            "Requirement already satisfied: timeout_decorator in /usr/local/lib/python3.6/dist-packages (0.4.1)\n"
          ]
        }
      ],
      "source": [
        "!git clone https://github.com/AllenInstitute/deepinterpolation.git\n",
        "!mkdir -p ephys"
      ]
    },
    {
      "cell_type": "markdown",
      "metadata": {
        "id": "DjcbfWj_Jopq"
      },
      "source": [
        "Install deepinterpolation package"
      ]
    },
    {
      "cell_type": "code",
      "execution_count": 83,
      "metadata": {
        "colab": {
          "base_uri": "https://localhost:8080/"
        },
        "id": "tK8RFhYQJoyK",
        "outputId": "2db29cec-384d-421c-966d-e54aa0ffb772"
      },
      "outputs": [
        {
          "name": "stdout",
          "output_type": "stream",
          "text": [
            "Collecting git+https://github.com/AllenInstitute/deepinterpolation.git\n",
            "  Cloning https://github.com/AllenInstitute/deepinterpolation.git to /tmp/pip-req-build-5qf0jam7\n",
            "  Running command git clone -q https://github.com/AllenInstitute/deepinterpolation.git /tmp/pip-req-build-5qf0jam7\n",
            "Requirement already satisfied (use --upgrade to upgrade): deepinterpolation==0.1.0 from git+https://github.com/AllenInstitute/deepinterpolation.git in /usr/local/lib/python3.6/dist-packages\n",
            "Building wheels for collected packages: deepinterpolation\n",
            "  Building wheel for deepinterpolation (setup.py) ... \u001b[?25l\u001b[?25hdone\n",
            "  Created wheel for deepinterpolation: filename=deepinterpolation-0.1.0-cp36-none-any.whl size=21726 sha256=ffeedf4fed39bc8d211a523b1cb6244ebaf13ba60b85d8023e4c8e98bd9265fb\n",
            "  Stored in directory: /tmp/pip-ephem-wheel-cache-uf59wkv4/wheels/f1/78/fd/1d2e8acccfd7c204055c5ab9dbc5add837981811641c01dbf1\n",
            "Successfully built deepinterpolation\n"
          ]
        }
      ],
      "source": [
        "!pip install git+https://github.com/AllenInstitute/deepinterpolation.git"
      ]
    },
    {
      "cell_type": "code",
      "execution_count": 1,
      "metadata": {
        "id": "D8RG4iRoCRUE"
      },
      "outputs": [],
      "source": [
        "import os\n",
        "from deepinterpolation.generator_collection import SingleTifGenerator\n",
        "from deepinterpolation.trainor_collection import core_trainer\n",
        "from deepinterpolation.network_collection import unet_single_1024\n",
        "import datetime"
      ]
    },
    {
      "cell_type": "markdown",
      "metadata": {
        "id": "1Nogrv6xClZQ"
      },
      "source": [
        "This is used for record-keeping\n"
      ]
    },
    {
      "cell_type": "code",
      "execution_count": 2,
      "metadata": {
        "id": "lwuBrQ_jC6Ya"
      },
      "outputs": [],
      "source": [
        "now = datetime.datetime.now()\n",
        "run_uid = now.strftime(\"%Y_%m_%d_%H_%M\")"
      ]
    },
    {
      "cell_type": "markdown",
      "metadata": {
        "id": "iPO8knNmC62U"
      },
      "source": [
        "Initialize meta-parameters objects"
      ]
    },
    {
      "cell_type": "code",
      "execution_count": 3,
      "metadata": {
        "id": "5HMK5cRDC-gz"
      },
      "outputs": [],
      "source": [
        "training_param = {}\n",
        "generator_param = {}\n",
        "network_param = {}\n",
        "generator_test_param = {}"
      ]
    },
    {
      "cell_type": "markdown",
      "metadata": {
        "id": "nn7PSaI-C-01"
      },
      "source": [
        "An epoch is defined as the number of batches pulled from the dataset. Because our datasets are VERY large. Often, we cannot\n",
        "go through the entirity of the data so we define an epoch slightly differently than is usual."
      ]
    },
    {
      "cell_type": "code",
      "execution_count": 4,
      "metadata": {
        "id": "CzKVMosLDCsb"
      },
      "outputs": [],
      "source": [
        "steps_per_epoch = 5"
      ]
    },
    {
      "cell_type": "markdown",
      "metadata": {
        "id": "i7s66NK5DCx_"
      },
      "source": [
        "Those are parameters used for the Validation test generator. Here the test is done on the beginning of the data but\n",
        "this can be a separate file.\n"
      ]
    },
    {
      "cell_type": "code",
      "execution_count": 6,
      "metadata": {
        "id": "3VsVLdJEC-8k"
      },
      "outputs": [],
      "source": [
        "generator_test_param[\n",
        "    \"pre_post_frame\"\n",
        "] = 30  # Number of frame provided before and after the predicted frame\n",
        "# In practice the test and validation would point at different files or different portion of files. But for demo, we have little data available\n",
        "generator_test_param[\"train_path\"] = os.path.join(\n",
        "    \"..\",\n",
        "    \"sample_data\",\n",
        "    \"ophys_tiny_761605196.tif\",\n",
        ")\n",
        "generator_test_param[\"batch_size\"] = 5\n",
        "generator_test_param[\"start_frame\"] = 0\n",
        "generator_test_param[\"end_frame\"] = 99\n",
        "generator_test_param[\n",
        "    \"pre_post_omission\"\n",
        "] = 0  # Number of frame omitted before and after the predicted frame\n",
        "generator_test_param[\"steps_per_epoch\"] = -1  # No step necessary for testing as epochs are not relevant. -1 deactivate it."
      ]
    },
    {
      "cell_type": "markdown",
      "metadata": {
        "id": "Z7e0BhTBEH_L"
      },
      "source": [
        "Those are parameters used for the main data generator"
      ]
    },
    {
      "cell_type": "code",
      "execution_count": 7,
      "metadata": {
        "id": "KCcCqT_hAuun"
      },
      "outputs": [],
      "source": [
        "# In practice the test and validation would point at different files or different portion of files. But for demo, we have little data available\n",
        "generator_param[\"steps_per_epoch\"] = steps_per_epoch\n",
        "generator_param[\"pre_post_frame\"] = 30\n",
        "generator_param[\"train_path\"] = os.path.join(\n",
        "    \"..\",\n",
        "    \"sample_data\",\n",
        "    \"ophys_tiny_761605196.tif\",\n",
        ")\n",
        "generator_param[\"batch_size\"] = 5\n",
        "generator_param[\"start_frame\"] = 0\n",
        "generator_param[\"end_frame\"] = 99\n",
        "generator_param[\"pre_post_omission\"] = 1"
      ]
    },
    {
      "cell_type": "markdown",
      "metadata": {
        "id": "sbvS5Y1yERiY"
      },
      "source": [
        "Those are parameters used for the network topology"
      ]
    },
    {
      "cell_type": "markdown",
      "metadata": {
        "id": "iAu-UN8zEjxz"
      },
      "source": [
        "Those are parameters used for the training process"
      ]
    },
    {
      "cell_type": "code",
      "execution_count": 8,
      "metadata": {
        "id": "VjINOf20EkCz"
      },
      "outputs": [],
      "source": [
        "training_param[\"run_uid\"] = run_uid\n",
        "training_param[\"batch_size\"] = generator_test_param[\"batch_size\"]\n",
        "training_param[\"steps_per_epoch\"] = steps_per_epoch\n",
        "training_param[\n",
        "    \"period_save\"\n",
        "] = 25  # network model is potentially saved during training between a regular nb epochs\n",
        "training_param[\"nb_gpus\"] = 0\n",
        "training_param[\"apply_learning_decay\"] = 0\n",
        "training_param[\n",
        "    \"nb_times_through_data\"\n",
        "] = 1  # if you want to cycle through the entire data. Two many iterations will cause noise overfitting\n",
        "training_param[\"learning_rate\"] = 0.0001\n",
        "training_param[\"pre_post_frame\"] = generator_test_param[\"pre_post_frame\"]\n",
        "training_param[\"loss\"] = \"mean_absolute_error\"\n",
        "training_param[\n",
        "    \"nb_workers\"\n",
        "] = 1  # this is to enable multiple threads for data generator loading. Useful when this is slower than training\n",
        "\n",
        "training_param[\"model_string\"] = (\n",
        "    \"unet_single_1024_\"\n",
        "    + training_param[\"loss\"]\n",
        "    + \"_\"\n",
        "    + training_param[\"run_uid\"]\n",
        ")"
      ]
    },
    {
      "cell_type": "markdown",
      "metadata": {
        "id": "STXWqSIHEkSr"
      },
      "source": [
        "Where do you store ongoing training progress"
      ]
    },
    {
      "cell_type": "code",
      "execution_count": 9,
      "metadata": {
        "id": "3a_PwgRGEkjx"
      },
      "outputs": [],
      "source": [
        "jobdir = os.path.join(\n",
        "    training_param[\"model_string\"] + \"_\" + run_uid,\n",
        ")\n",
        "training_param[\"output_dir\"] = jobdir\n",
        "\n",
        "try:\n",
        "    os.mkdir(jobdir)\n",
        "except:\n",
        "    print(\"folder already exists\")"
      ]
    },
    {
      "cell_type": "markdown",
      "metadata": {
        "id": "Gtk6kyuYE0qC"
      },
      "source": [
        "Here we create all json files that are fed to the training. This is used for recording purposes as well as input to the training proces"
      ]
    },
    {
      "cell_type": "markdown",
      "metadata": {
        "id": "s5O5T6EmE7ss"
      },
      "source": [
        "Here we create all objects for training."
      ]
    },
    {
      "cell_type": "code",
      "execution_count": 10,
      "metadata": {
        "colab": {
          "base_uri": "https://localhost:8080/"
        },
        "id": "RrOO6Pc7E71m",
        "outputId": "44c55219-8b15-43f9-ebdf-23efb0833b3d"
      },
      "outputs": [
        {
          "name": "stdout",
          "output_type": "stream",
          "text": [
            "WARNING:tensorflow:`period` argument is deprecated. Please use `save_freq` to specify the frequency in number of batches seen.\n"
          ]
        },
        {
          "name": "stderr",
          "output_type": "stream",
          "text": [
            "WARNING:absl:At this time, the v2.11+ optimizer `tf.keras.optimizers.RMSprop` runs slowly on M1/M2 Macs, please use the legacy Keras optimizer instead, located at `tf.keras.optimizers.legacy.RMSprop`.\n",
            "WARNING:absl:`lr` is deprecated in Keras optimizer, please use `learning_rate` or use the legacy optimizer, e.g.,tf.keras.optimizers.legacy.RMSprop.\n"
          ]
        }
      ],
      "source": [
        "# We build the generators object. This will, among other things, calculate normalizing parameters.\n",
        "train_generator = SingleTifGenerator(generator_param)\n",
        "test_generator = SingleTifGenerator(generator_test_param)\n",
        "\n",
        "# We build the training object.\n",
        "training_class = core_trainer(train_generator, test_generator, unet_single_1024({}), training_param)"
      ]
    },
    {
      "cell_type": "markdown",
      "metadata": {
        "id": "LpVKYBcsCCuz"
      },
      "source": [
        "Start training. This can take very long time."
      ]
    },
    {
      "cell_type": "code",
      "execution_count": 11,
      "metadata": {
        "colab": {
          "base_uri": "https://localhost:8080/"
        },
        "id": "6Hw-IUVbAxSw",
        "outputId": "0544b182-caa1-493a-f9e3-c5080375c02d"
      },
      "outputs": [
        {
          "name": "stdout",
          "output_type": "stream",
          "text": [
            "5/5 [==============================] - 151s 31s/step - loss: 904.7095 - val_loss: 0.6580\n"
          ]
        }
      ],
      "source": [
        "training_class.run()"
      ]
    },
    {
      "cell_type": "markdown",
      "metadata": {
        "id": "FedXESQAB7f7"
      },
      "source": [
        "Finalize and save output of the training."
      ]
    },
    {
      "cell_type": "code",
      "execution_count": 12,
      "metadata": {
        "colab": {
          "base_uri": "https://localhost:8080/"
        },
        "id": "EGgJLL5hA0N8",
        "outputId": "4b571095-942c-4300-8253-e655fedb064a"
      },
      "outputs": [
        {
          "name": "stderr",
          "output_type": "stream",
          "text": [
            "/Users/jerome.lecoq/opt/miniconda3/envs/deepinterpolation_new/lib/python3.10/site-packages/keras-2.15.0-py3.10.egg/keras/src/engine/training.py:3103: UserWarning: You are saving your model as an HDF5 file via `model.save()`. This file format is considered legacy. We recommend using instead the native Keras format, e.g. `model.save('my_model.keras')`.\n",
            "  saving_api.save_model(\n"
          ]
        },
        {
          "name": "stdout",
          "output_type": "stream",
          "text": [
            "Saved model to disk\n"
          ]
        }
      ],
      "source": [
        "training_class.finalize()"
      ]
    }
  ],
  "metadata": {
    "colab": {
      "collapsed_sections": [],
      "name": "example_tiny_ephys_training.ipynb",
      "provenance": [],
      "toc_visible": true
    },
    "kernelspec": {
      "display_name": "Python 3",
      "name": "python3"
    },
    "language_info": {
      "codemirror_mode": {
        "name": "ipython",
        "version": 3
      },
      "file_extension": ".py",
      "mimetype": "text/x-python",
      "name": "python",
      "nbconvert_exporter": "python",
      "pygments_lexer": "ipython3",
      "version": "3.10.13"
    }
  },
  "nbformat": 4,
  "nbformat_minor": 0
}
