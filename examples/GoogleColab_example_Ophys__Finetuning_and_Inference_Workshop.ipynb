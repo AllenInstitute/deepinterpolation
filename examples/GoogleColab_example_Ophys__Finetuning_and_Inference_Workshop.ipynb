{
  "cells": [
    {
      "cell_type": "markdown",
      "metadata": {
        "colab_type": "text",
        "id": "view-in-github"
      },
      "source": [
        "<a href=\"https://colab.research.google.com/github/AllenInstitute/deepinterpolation/blob/master/examples/GoogleColab_example_Ophys__Finetuning_and_Inference_Workshop.ipynb\" target=\"_parent\"><img src=\"https://colab.research.google.com/assets/colab-badge.svg\" alt=\"Open In Colab\"/></a>"
      ]
    },
    {
      "cell_type": "markdown",
      "metadata": {
        "id": "b8ypNagStXjf"
      },
      "source": [
        "We first install the DeepInterpolation package. This is using a branch that was optimized for Google Colab low memory and uses pre-installed tensorflow version.\n",
        "\n"
      ]
    },
    {
      "cell_type": "code",
      "execution_count": 1,
      "metadata": {
        "colab": {
          "base_uri": "https://localhost:8080/"
        },
        "id": "DhfkEfaoA9eT",
        "outputId": "88d0de85-4325-412d-c7d4-21fd88439280"
      },
      "outputs": [
        {
          "name": "stdout",
          "output_type": "stream",
          "text": [
            "Collecting git+https://github.com/AllenInstitute/deepinterpolation.git@fix/gpu_memory_threads\n",
            "  Cloning https://github.com/AllenInstitute/deepinterpolation.git (to revision fix/gpu_memory_threads) to /tmp/pip-req-build-927vd0i0\n",
            "  Running command git clone -q https://github.com/AllenInstitute/deepinterpolation.git /tmp/pip-req-build-927vd0i0\n",
            "  Running command git checkout -b fix/gpu_memory_threads --track origin/fix/gpu_memory_threads\n",
            "  Switched to a new branch 'fix/gpu_memory_threads'\n",
            "  Branch 'fix/gpu_memory_threads' set up to track remote branch 'fix/gpu_memory_threads' from 'origin'.\n",
            "Requirement already satisfied: tensorflow in /usr/local/lib/python3.7/dist-packages (from deepinterpolation==0.1.5) (2.8.0)\n",
            "Requirement already satisfied: nibabel in /usr/local/lib/python3.7/dist-packages (from deepinterpolation==0.1.5) (3.0.2)\n",
            "Requirement already satisfied: matplotlib in /usr/local/lib/python3.7/dist-packages (from deepinterpolation==0.1.5) (3.2.2)\n",
            "Requirement already satisfied: numpy in /usr/local/lib/python3.7/dist-packages (from deepinterpolation==0.1.5) (1.21.5)\n",
            "Requirement already satisfied: python-dateutil in /usr/local/lib/python3.7/dist-packages (from deepinterpolation==0.1.5) (2.8.2)\n",
            "Requirement already satisfied: scipy in /usr/local/lib/python3.7/dist-packages (from deepinterpolation==0.1.5) (1.4.1)\n",
            "Requirement already satisfied: tifffile in /usr/local/lib/python3.7/dist-packages (from deepinterpolation==0.1.5) (2021.11.2)\n",
            "Collecting s3fs\n",
            "  Downloading s3fs-2022.2.0-py3-none-any.whl (26 kB)\n",
            "Collecting argschema==2.0.2\n",
            "  Downloading argschema-2.0.2.tar.gz (24 kB)\n",
            "Collecting mlflow==1.14.1\n",
            "  Downloading mlflow-1.14.1-py3-none-any.whl (14.2 MB)\n",
            "\u001b[K     |████████████████████████████████| 14.2 MB 7.2 MB/s \n",
            "\u001b[?25hCollecting marshmallow==3.0.0rc6\n",
            "  Downloading marshmallow-3.0.0rc6-py2.py3-none-any.whl (42 kB)\n",
            "\u001b[K     |████████████████████████████████| 42 kB 1.3 MB/s \n",
            "\u001b[?25hRequirement already satisfied: protobuf>=3.6.0 in /usr/local/lib/python3.7/dist-packages (from mlflow==1.14.1->deepinterpolation==0.1.5) (3.17.3)\n",
            "Collecting alembic<=1.4.1\n",
            "  Downloading alembic-1.4.1.tar.gz (1.1 MB)\n",
            "\u001b[K     |████████████████████████████████| 1.1 MB 38.9 MB/s \n",
            "\u001b[?25hCollecting prometheus-flask-exporter\n",
            "  Downloading prometheus_flask_exporter-0.18.7-py3-none-any.whl (17 kB)\n",
            "Requirement already satisfied: sqlparse>=0.3.1 in /usr/local/lib/python3.7/dist-packages (from mlflow==1.14.1->deepinterpolation==0.1.5) (0.4.2)\n",
            "Collecting querystring-parser\n",
            "  Downloading querystring_parser-1.2.4-py2.py3-none-any.whl (7.9 kB)\n",
            "Collecting docker>=4.0.0\n",
            "  Downloading docker-5.0.3-py2.py3-none-any.whl (146 kB)\n",
            "\u001b[K     |████████████████████████████████| 146 kB 41.0 MB/s \n",
            "\u001b[?25hCollecting databricks-cli>=0.8.7\n",
            "  Downloading databricks-cli-0.16.4.tar.gz (58 kB)\n",
            "\u001b[K     |████████████████████████████████| 58 kB 5.8 MB/s \n",
            "\u001b[?25hRequirement already satisfied: entrypoints in /usr/local/lib/python3.7/dist-packages (from mlflow==1.14.1->deepinterpolation==0.1.5) (0.4)\n",
            "Requirement already satisfied: sqlalchemy in /usr/local/lib/python3.7/dist-packages (from mlflow==1.14.1->deepinterpolation==0.1.5) (1.4.31)\n",
            "Collecting gitpython>=2.1.0\n",
            "  Downloading GitPython-3.1.27-py3-none-any.whl (181 kB)\n",
            "\u001b[K     |████████████████████████████████| 181 kB 49.3 MB/s \n",
            "\u001b[?25hRequirement already satisfied: cloudpickle in /usr/local/lib/python3.7/dist-packages (from mlflow==1.14.1->deepinterpolation==0.1.5) (1.3.0)\n",
            "Requirement already satisfied: requests>=2.17.3 in /usr/local/lib/python3.7/dist-packages (from mlflow==1.14.1->deepinterpolation==0.1.5) (2.23.0)\n",
            "Collecting gunicorn\n",
            "  Downloading gunicorn-20.1.0-py3-none-any.whl (79 kB)\n",
            "\u001b[K     |████████████████████████████████| 79 kB 7.0 MB/s \n",
            "\u001b[?25hRequirement already satisfied: pandas in /usr/local/lib/python3.7/dist-packages (from mlflow==1.14.1->deepinterpolation==0.1.5) (1.3.5)\n",
            "Requirement already satisfied: click>=7.0 in /usr/local/lib/python3.7/dist-packages (from mlflow==1.14.1->deepinterpolation==0.1.5) (7.1.2)\n",
            "Requirement already satisfied: pyyaml in /usr/local/lib/python3.7/dist-packages (from mlflow==1.14.1->deepinterpolation==0.1.5) (3.13)\n",
            "Requirement already satisfied: Flask in /usr/local/lib/python3.7/dist-packages (from mlflow==1.14.1->deepinterpolation==0.1.5) (1.1.4)\n",
            "Requirement already satisfied: pytz in /usr/local/lib/python3.7/dist-packages (from mlflow==1.14.1->deepinterpolation==0.1.5) (2018.9)\n",
            "Collecting Mako\n",
            "  Downloading Mako-1.1.6-py2.py3-none-any.whl (75 kB)\n",
            "\u001b[K     |████████████████████████████████| 75 kB 4.7 MB/s \n",
            "\u001b[?25hCollecting python-editor>=0.3\n",
            "  Downloading python_editor-1.0.4-py3-none-any.whl (4.9 kB)\n",
            "Requirement already satisfied: tabulate>=0.7.7 in /usr/local/lib/python3.7/dist-packages (from databricks-cli>=0.8.7->mlflow==1.14.1->deepinterpolation==0.1.5) (0.8.9)\n",
            "Requirement already satisfied: six>=1.10.0 in /usr/local/lib/python3.7/dist-packages (from databricks-cli>=0.8.7->mlflow==1.14.1->deepinterpolation==0.1.5) (1.15.0)\n",
            "Collecting websocket-client>=0.32.0\n",
            "  Downloading websocket_client-1.2.3-py3-none-any.whl (53 kB)\n",
            "\u001b[K     |████████████████████████████████| 53 kB 2.0 MB/s \n",
            "\u001b[?25hRequirement already satisfied: typing-extensions>=3.7.4.3 in /usr/local/lib/python3.7/dist-packages (from gitpython>=2.1.0->mlflow==1.14.1->deepinterpolation==0.1.5) (3.10.0.2)\n",
            "Collecting gitdb<5,>=4.0.1\n",
            "  Downloading gitdb-4.0.9-py3-none-any.whl (63 kB)\n",
            "\u001b[K     |████████████████████████████████| 63 kB 1.7 MB/s \n",
            "\u001b[?25hCollecting smmap<6,>=3.0.1\n",
            "  Downloading smmap-5.0.0-py3-none-any.whl (24 kB)\n",
            "Requirement already satisfied: certifi>=2017.4.17 in /usr/local/lib/python3.7/dist-packages (from requests>=2.17.3->mlflow==1.14.1->deepinterpolation==0.1.5) (2021.10.8)\n",
            "Requirement already satisfied: idna<3,>=2.5 in /usr/local/lib/python3.7/dist-packages (from requests>=2.17.3->mlflow==1.14.1->deepinterpolation==0.1.5) (2.10)\n",
            "Requirement already satisfied: urllib3!=1.25.0,!=1.25.1,<1.26,>=1.21.1 in /usr/local/lib/python3.7/dist-packages (from requests>=2.17.3->mlflow==1.14.1->deepinterpolation==0.1.5) (1.24.3)\n",
            "Requirement already satisfied: chardet<4,>=3.0.2 in /usr/local/lib/python3.7/dist-packages (from requests>=2.17.3->mlflow==1.14.1->deepinterpolation==0.1.5) (3.0.4)\n",
            "Requirement already satisfied: importlib-metadata in /usr/local/lib/python3.7/dist-packages (from sqlalchemy->mlflow==1.14.1->deepinterpolation==0.1.5) (4.11.1)\n",
            "Requirement already satisfied: greenlet!=0.4.17 in /usr/local/lib/python3.7/dist-packages (from sqlalchemy->mlflow==1.14.1->deepinterpolation==0.1.5) (1.1.2)\n",
            "Requirement already satisfied: Werkzeug<2.0,>=0.15 in /usr/local/lib/python3.7/dist-packages (from Flask->mlflow==1.14.1->deepinterpolation==0.1.5) (1.0.1)\n",
            "Requirement already satisfied: Jinja2<3.0,>=2.10.1 in /usr/local/lib/python3.7/dist-packages (from Flask->mlflow==1.14.1->deepinterpolation==0.1.5) (2.11.3)\n",
            "Requirement already satisfied: itsdangerous<2.0,>=0.24 in /usr/local/lib/python3.7/dist-packages (from Flask->mlflow==1.14.1->deepinterpolation==0.1.5) (1.1.0)\n",
            "Requirement already satisfied: MarkupSafe>=0.23 in /usr/local/lib/python3.7/dist-packages (from Jinja2<3.0,>=2.10.1->Flask->mlflow==1.14.1->deepinterpolation==0.1.5) (2.0.1)\n",
            "Requirement already satisfied: setuptools>=3.0 in /usr/local/lib/python3.7/dist-packages (from gunicorn->mlflow==1.14.1->deepinterpolation==0.1.5) (57.4.0)\n",
            "Requirement already satisfied: zipp>=0.5 in /usr/local/lib/python3.7/dist-packages (from importlib-metadata->sqlalchemy->mlflow==1.14.1->deepinterpolation==0.1.5) (3.7.0)\n",
            "Requirement already satisfied: pyparsing!=2.0.4,!=2.1.2,!=2.1.6,>=2.0.1 in /usr/local/lib/python3.7/dist-packages (from matplotlib->deepinterpolation==0.1.5) (3.0.7)\n",
            "Requirement already satisfied: kiwisolver>=1.0.1 in /usr/local/lib/python3.7/dist-packages (from matplotlib->deepinterpolation==0.1.5) (1.3.2)\n",
            "Requirement already satisfied: cycler>=0.10 in /usr/local/lib/python3.7/dist-packages (from matplotlib->deepinterpolation==0.1.5) (0.11.0)\n",
            "Requirement already satisfied: prometheus-client in /usr/local/lib/python3.7/dist-packages (from prometheus-flask-exporter->mlflow==1.14.1->deepinterpolation==0.1.5) (0.13.1)\n",
            "Collecting aiobotocore~=2.1.0\n",
            "  Downloading aiobotocore-2.1.1.tar.gz (57 kB)\n",
            "\u001b[K     |████████████████████████████████| 57 kB 5.0 MB/s \n",
            "\u001b[?25hCollecting fsspec==2022.02.0\n",
            "  Downloading fsspec-2022.2.0-py3-none-any.whl (134 kB)\n",
            "\u001b[K     |████████████████████████████████| 134 kB 43.9 MB/s \n",
            "\u001b[?25hCollecting aiohttp<=4\n",
            "  Downloading aiohttp-3.8.1-cp37-cp37m-manylinux_2_5_x86_64.manylinux1_x86_64.manylinux_2_12_x86_64.manylinux2010_x86_64.whl (1.1 MB)\n",
            "\u001b[K     |████████████████████████████████| 1.1 MB 41.5 MB/s \n",
            "\u001b[?25hCollecting botocore<1.23.25,>=1.23.24\n",
            "  Downloading botocore-1.23.24-py3-none-any.whl (8.4 MB)\n",
            "\u001b[K     |████████████████████████████████| 8.4 MB 32.9 MB/s \n",
            "\u001b[?25hRequirement already satisfied: wrapt>=1.10.10 in /usr/local/lib/python3.7/dist-packages (from aiobotocore~=2.1.0->s3fs->deepinterpolation==0.1.5) (1.13.3)\n",
            "Collecting aioitertools>=0.5.1\n",
            "  Downloading aioitertools-0.9.0-py3-none-any.whl (22 kB)\n",
            "Requirement already satisfied: charset-normalizer<3.0,>=2.0 in /usr/local/lib/python3.7/dist-packages (from aiohttp<=4->s3fs->deepinterpolation==0.1.5) (2.0.12)\n",
            "Collecting frozenlist>=1.1.1\n",
            "  Downloading frozenlist-1.3.0-cp37-cp37m-manylinux_2_5_x86_64.manylinux1_x86_64.manylinux_2_17_x86_64.manylinux2014_x86_64.whl (144 kB)\n",
            "\u001b[K     |████████████████████████████████| 144 kB 47.3 MB/s \n",
            "\u001b[?25hCollecting asynctest==0.13.0\n",
            "  Downloading asynctest-0.13.0-py3-none-any.whl (26 kB)\n",
            "Collecting multidict<7.0,>=4.5\n",
            "  Downloading multidict-6.0.2-cp37-cp37m-manylinux_2_17_x86_64.manylinux2014_x86_64.whl (94 kB)\n",
            "\u001b[K     |████████████████████████████████| 94 kB 2.8 MB/s \n",
            "\u001b[?25hCollecting aiosignal>=1.1.2\n",
            "  Downloading aiosignal-1.2.0-py3-none-any.whl (8.2 kB)\n",
            "Requirement already satisfied: attrs>=17.3.0 in /usr/local/lib/python3.7/dist-packages (from aiohttp<=4->s3fs->deepinterpolation==0.1.5) (21.4.0)\n",
            "Collecting async-timeout<5.0,>=4.0.0a3\n",
            "  Downloading async_timeout-4.0.2-py3-none-any.whl (5.8 kB)\n",
            "Collecting yarl<2.0,>=1.0\n",
            "  Downloading yarl-1.7.2-cp37-cp37m-manylinux_2_5_x86_64.manylinux1_x86_64.manylinux_2_12_x86_64.manylinux2010_x86_64.whl (271 kB)\n",
            "\u001b[K     |████████████████████████████████| 271 kB 40.2 MB/s \n",
            "\u001b[?25hCollecting typing-extensions>=3.7.4.3\n",
            "  Downloading typing_extensions-4.1.1-py3-none-any.whl (26 kB)\n",
            "Collecting urllib3!=1.25.0,!=1.25.1,<1.26,>=1.21.1\n",
            "  Downloading urllib3-1.25.11-py2.py3-none-any.whl (127 kB)\n",
            "\u001b[K     |████████████████████████████████| 127 kB 51.2 MB/s \n",
            "\u001b[?25hCollecting jmespath<1.0.0,>=0.7.1\n",
            "  Downloading jmespath-0.10.0-py2.py3-none-any.whl (24 kB)\n",
            "Requirement already satisfied: libclang>=9.0.1 in /usr/local/lib/python3.7/dist-packages (from tensorflow->deepinterpolation==0.1.5) (13.0.0)\n",
            "Requirement already satisfied: flatbuffers>=1.12 in /usr/local/lib/python3.7/dist-packages (from tensorflow->deepinterpolation==0.1.5) (2.0)\n",
            "Requirement already satisfied: gast>=0.2.1 in /usr/local/lib/python3.7/dist-packages (from tensorflow->deepinterpolation==0.1.5) (0.5.3)\n",
            "Requirement already satisfied: tensorboard<2.9,>=2.8 in /usr/local/lib/python3.7/dist-packages (from tensorflow->deepinterpolation==0.1.5) (2.8.0)\n",
            "Requirement already satisfied: absl-py>=0.4.0 in /usr/local/lib/python3.7/dist-packages (from tensorflow->deepinterpolation==0.1.5) (1.0.0)\n",
            "Requirement already satisfied: google-pasta>=0.1.1 in /usr/local/lib/python3.7/dist-packages (from tensorflow->deepinterpolation==0.1.5) (0.2.0)\n",
            "Requirement already satisfied: grpcio<2.0,>=1.24.3 in /usr/local/lib/python3.7/dist-packages (from tensorflow->deepinterpolation==0.1.5) (1.43.0)\n",
            "Requirement already satisfied: termcolor>=1.1.0 in /usr/local/lib/python3.7/dist-packages (from tensorflow->deepinterpolation==0.1.5) (1.1.0)\n",
            "Requirement already satisfied: opt-einsum>=2.3.2 in /usr/local/lib/python3.7/dist-packages (from tensorflow->deepinterpolation==0.1.5) (3.3.0)\n",
            "Requirement already satisfied: tensorflow-io-gcs-filesystem>=0.23.1 in /usr/local/lib/python3.7/dist-packages (from tensorflow->deepinterpolation==0.1.5) (0.24.0)\n",
            "Requirement already satisfied: keras-preprocessing>=1.1.1 in /usr/local/lib/python3.7/dist-packages (from tensorflow->deepinterpolation==0.1.5) (1.1.2)\n",
            "Requirement already satisfied: keras<2.9,>=2.8.0rc0 in /usr/local/lib/python3.7/dist-packages (from tensorflow->deepinterpolation==0.1.5) (2.8.0)\n",
            "Collecting tf-estimator-nightly==2.8.0.dev2021122109\n",
            "  Downloading tf_estimator_nightly-2.8.0.dev2021122109-py2.py3-none-any.whl (462 kB)\n",
            "\u001b[K     |████████████████████████████████| 462 kB 41.4 MB/s \n",
            "\u001b[?25hRequirement already satisfied: astunparse>=1.6.0 in /usr/local/lib/python3.7/dist-packages (from tensorflow->deepinterpolation==0.1.5) (1.6.3)\n",
            "Requirement already satisfied: h5py>=2.9.0 in /usr/local/lib/python3.7/dist-packages (from tensorflow->deepinterpolation==0.1.5) (3.1.0)\n",
            "Requirement already satisfied: wheel<1.0,>=0.23.0 in /usr/local/lib/python3.7/dist-packages (from astunparse>=1.6.0->tensorflow->deepinterpolation==0.1.5) (0.37.1)\n",
            "Requirement already satisfied: cached-property in /usr/local/lib/python3.7/dist-packages (from h5py>=2.9.0->tensorflow->deepinterpolation==0.1.5) (1.5.2)\n",
            "Requirement already satisfied: tensorboard-data-server<0.7.0,>=0.6.0 in /usr/local/lib/python3.7/dist-packages (from tensorboard<2.9,>=2.8->tensorflow->deepinterpolation==0.1.5) (0.6.1)\n",
            "Requirement already satisfied: markdown>=2.6.8 in /usr/local/lib/python3.7/dist-packages (from tensorboard<2.9,>=2.8->tensorflow->deepinterpolation==0.1.5) (3.3.6)\n",
            "Requirement already satisfied: tensorboard-plugin-wit>=1.6.0 in /usr/local/lib/python3.7/dist-packages (from tensorboard<2.9,>=2.8->tensorflow->deepinterpolation==0.1.5) (1.8.1)\n",
            "Requirement already satisfied: google-auth<3,>=1.6.3 in /usr/local/lib/python3.7/dist-packages (from tensorboard<2.9,>=2.8->tensorflow->deepinterpolation==0.1.5) (1.35.0)\n",
            "Requirement already satisfied: google-auth-oauthlib<0.5,>=0.4.1 in /usr/local/lib/python3.7/dist-packages (from tensorboard<2.9,>=2.8->tensorflow->deepinterpolation==0.1.5) (0.4.6)\n",
            "Requirement already satisfied: cachetools<5.0,>=2.0.0 in /usr/local/lib/python3.7/dist-packages (from google-auth<3,>=1.6.3->tensorboard<2.9,>=2.8->tensorflow->deepinterpolation==0.1.5) (4.2.4)\n",
            "Requirement already satisfied: rsa<5,>=3.1.4 in /usr/local/lib/python3.7/dist-packages (from google-auth<3,>=1.6.3->tensorboard<2.9,>=2.8->tensorflow->deepinterpolation==0.1.5) (4.8)\n",
            "Requirement already satisfied: pyasn1-modules>=0.2.1 in /usr/local/lib/python3.7/dist-packages (from google-auth<3,>=1.6.3->tensorboard<2.9,>=2.8->tensorflow->deepinterpolation==0.1.5) (0.2.8)\n",
            "Requirement already satisfied: requests-oauthlib>=0.7.0 in /usr/local/lib/python3.7/dist-packages (from google-auth-oauthlib<0.5,>=0.4.1->tensorboard<2.9,>=2.8->tensorflow->deepinterpolation==0.1.5) (1.3.1)\n",
            "Requirement already satisfied: pyasn1<0.5.0,>=0.4.6 in /usr/local/lib/python3.7/dist-packages (from pyasn1-modules>=0.2.1->google-auth<3,>=1.6.3->tensorboard<2.9,>=2.8->tensorflow->deepinterpolation==0.1.5) (0.4.8)\n",
            "Requirement already satisfied: oauthlib>=3.0.0 in /usr/local/lib/python3.7/dist-packages (from requests-oauthlib>=0.7.0->google-auth-oauthlib<0.5,>=0.4.1->tensorboard<2.9,>=2.8->tensorflow->deepinterpolation==0.1.5) (3.2.0)\n",
            "Building wheels for collected packages: deepinterpolation, argschema, alembic, databricks-cli, aiobotocore\n",
            "  Building wheel for deepinterpolation (setup.py) ... \u001b[?25l\u001b[?25hdone\n",
            "  Created wheel for deepinterpolation: filename=deepinterpolation-0.1.5-py3-none-any.whl size=34375 sha256=ba5d72ea7a95a6918270dad488f00c2710c53cb8541bce377029aad6e4bdf2ca\n",
            "  Stored in directory: /tmp/pip-ephem-wheel-cache-j18ymthv/wheels/c6/41/1a/24488a235c4c2b5eec3973b25b675df31c765e43926455142a\n",
            "  Building wheel for argschema (setup.py) ... \u001b[?25l\u001b[?25hdone\n",
            "  Created wheel for argschema: filename=argschema-2.0.2-py2.py3-none-any.whl size=17795 sha256=893b1ce2f4657ebdcd31567c3e387660d552e719ab3e0041a7c83d8ee3905ca0\n",
            "  Stored in directory: /root/.cache/pip/wheels/ee/97/a8/4dbf0458be0af473d083a6354c0c126490e82447237bb0b907\n",
            "  Building wheel for alembic (setup.py) ... \u001b[?25l\u001b[?25hdone\n",
            "  Created wheel for alembic: filename=alembic-1.4.1-py2.py3-none-any.whl size=158171 sha256=9b2944817c89f8ecf2f06b1560b7ac341b263d8b78ba2fe792ec959d0ff30124\n",
            "  Stored in directory: /root/.cache/pip/wheels/be/5d/0a/9e13f53f4f5dfb67cd8d245bb7cdffe12f135846f491a283e3\n",
            "  Building wheel for databricks-cli (setup.py) ... \u001b[?25l\u001b[?25hdone\n",
            "  Created wheel for databricks-cli: filename=databricks_cli-0.16.4-py3-none-any.whl size=106877 sha256=6a6906d580c79ebe4cc771faf2384ddb704194d053079f5602b58a782942118d\n",
            "  Stored in directory: /root/.cache/pip/wheels/a2/a1/6d/fa1d22ea25ed8593887437fe1c7e00f6ef307fc240ccd4dc5c\n",
            "  Building wheel for aiobotocore (setup.py) ... \u001b[?25l\u001b[?25hdone\n",
            "  Created wheel for aiobotocore: filename=aiobotocore-2.1.1-py3-none-any.whl size=55483 sha256=84a344ce645bda4d13cae433ec898b49875df1e854476ad0193e30f7357d7991\n",
            "  Stored in directory: /root/.cache/pip/wheels/52/fd/d3/e85dd95a98c12426ed6864dc24a408c3ca3253d4387b2f1cce\n",
            "Successfully built deepinterpolation argschema alembic databricks-cli aiobotocore\n",
            "Installing collected packages: urllib3, typing-extensions, multidict, frozenlist, yarl, smmap, jmespath, asynctest, async-timeout, aiosignal, websocket-client, python-editor, Mako, gitdb, botocore, aioitertools, aiohttp, tf-estimator-nightly, querystring-parser, prometheus-flask-exporter, marshmallow, gunicorn, gitpython, fsspec, docker, databricks-cli, alembic, aiobotocore, s3fs, mlflow, argschema, deepinterpolation\n",
            "  Attempting uninstall: urllib3\n",
            "    Found existing installation: urllib3 1.24.3\n",
            "    Uninstalling urllib3-1.24.3:\n",
            "      Successfully uninstalled urllib3-1.24.3\n",
            "  Attempting uninstall: typing-extensions\n",
            "    Found existing installation: typing-extensions 3.10.0.2\n",
            "    Uninstalling typing-extensions-3.10.0.2:\n",
            "      Successfully uninstalled typing-extensions-3.10.0.2\n",
            "\u001b[31mERROR: pip's dependency resolver does not currently take into account all the packages that are installed. This behaviour is the source of the following dependency conflicts.\n",
            "datascience 0.10.6 requires folium==0.2.1, but you have folium 0.8.3 which is incompatible.\n",
            "arviz 0.11.4 requires typing-extensions<4,>=3.7.4.3, but you have typing-extensions 4.1.1 which is incompatible.\u001b[0m\n",
            "Successfully installed Mako-1.1.6 aiobotocore-2.1.1 aiohttp-3.8.1 aioitertools-0.9.0 aiosignal-1.2.0 alembic-1.4.1 argschema-2.0.2 async-timeout-4.0.2 asynctest-0.13.0 botocore-1.23.24 databricks-cli-0.16.4 deepinterpolation-0.1.5 docker-5.0.3 frozenlist-1.3.0 fsspec-2022.2.0 gitdb-4.0.9 gitpython-3.1.27 gunicorn-20.1.0 jmespath-0.10.0 marshmallow-3.0.0rc6 mlflow-1.14.1 multidict-6.0.2 prometheus-flask-exporter-0.18.7 python-editor-1.0.4 querystring-parser-1.2.4 s3fs-2022.2.0 smmap-5.0.0 tf-estimator-nightly-2.8.0.dev2021122109 typing-extensions-4.1.1 urllib3-1.25.11 websocket-client-1.2.3 yarl-1.7.2\n"
          ]
        }
      ],
      "source": [
        "!pip3 install git+https://github.com/AllenInstitute/deepinterpolation.git@fix/gpu_memory_threads"
      ]
    },
    {
      "cell_type": "markdown",
      "metadata": {
        "id": "Cj9-_x4puf0D"
      },
      "source": [
        "We import the package FineTuning and Inference interface and some useful libraries for this notebook"
      ]
    },
    {
      "cell_type": "code",
      "execution_count": 2,
      "metadata": {
        "id": "D8RG4iRoCRUE"
      },
      "outputs": [],
      "source": [
        "from deepinterpolation.cli.fine_tuning import FineTuning\n",
        "from deepinterpolation.cli.inference import Inference\n",
        "import os\n",
        "import glob\n",
        "import datetime\n",
        "import h5py"
      ]
    },
    {
      "cell_type": "markdown",
      "metadata": {
        "id": "sXZPiJXSu45L"
      },
      "source": [
        "We connect a local folder to a public S3 bucket with the Allen Brain Observatory RAW movies stored as hdf5 files. This is using s3fs, an emulated file system. "
      ]
    },
    {
      "cell_type": "code",
      "execution_count": 3,
      "metadata": {
        "colab": {
          "base_uri": "https://localhost:8080/"
        },
        "id": "qPTcHXThQyK6",
        "outputId": "485b201d-02b7-4849-8745-304455517f7f"
      },
      "outputs": [
        {
          "name": "stdout",
          "output_type": "stream",
          "text": [
            "Reading package lists... Done\n",
            "Building dependency tree       \n",
            "Reading state information... Done\n",
            "The following package was automatically installed and is no longer required:\n",
            "  libnvidia-common-470\n",
            "Use 'apt autoremove' to remove it.\n",
            "The following NEW packages will be installed:\n",
            "  s3fs\n",
            "0 upgraded, 1 newly installed, 0 to remove and 39 not upgraded.\n",
            "Need to get 200 kB of archives.\n",
            "After this operation, 557 kB of additional disk space will be used.\n",
            "Get:1 http://archive.ubuntu.com/ubuntu bionic/universe amd64 s3fs amd64 1.82-1 [200 kB]\n",
            "Fetched 200 kB in 1s (255 kB/s)\n",
            "Selecting previously unselected package s3fs.\n",
            "(Reading database ... 155320 files and directories currently installed.)\n",
            "Preparing to unpack .../archives/s3fs_1.82-1_amd64.deb ...\n",
            "Unpacking s3fs (1.82-1) ...\n",
            "Setting up s3fs (1.82-1) ...\n",
            "Processing triggers for man-db (2.8.3-2ubuntu0.1) ...\n"
          ]
        }
      ],
      "source": [
        "!apt install s3fs\n",
        "!mkdir /content/s3  \n",
        "!s3fs allen-brain-observatory /content/s3 -o public_bucket=1"
      ]
    },
    {
      "cell_type": "markdown",
      "metadata": {
        "id": "gC6VpHExvWKp"
      },
      "source": [
        "This is the path to a single movie on S3 that we will make a copy locally"
      ]
    },
    {
      "cell_type": "code",
      "execution_count": 4,
      "metadata": {
        "id": "5B-Rs4YtPA0X"
      },
      "outputs": [],
      "source": [
        "input_movie_path = '/content/s3/visual-coding-2p/ophys_movies/ophys_experiment_501254258.h5'\n",
        "output_movie_path = '/content/ophys_experiment_501254258.h5'"
      ]
    },
    {
      "cell_type": "markdown",
      "metadata": {
        "id": "NwY1bCwSvdtG"
      },
      "source": [
        "We make a copy of a subset of a movie file so as to fit Google Colab more limited free file storage and provide faster local access. "
      ]
    },
    {
      "cell_type": "code",
      "execution_count": 5,
      "metadata": {
        "id": "d14034MuPENF"
      },
      "outputs": [],
      "source": [
        "with h5py.File(input_movie_path, 'r') as file_handle:\n",
        "  data = file_handle['data'][0:550,:,:]\n",
        "  with h5py.File(output_movie_path,'w') as file_handle_out:\n",
        "    file_handle_out.create_dataset('data',data=data)\n",
        "  del data"
      ]
    },
    {
      "cell_type": "markdown",
      "metadata": {
        "id": "JbFGEKJ_1bJ2"
      },
      "source": [
        "We download a pre-trained, optimized DeepInterpolation model. This is currently less validated than the much larger published model but it has the benefit of working well with Colab and is much smaller. So far our results with it are quite good. "
      ]
    },
    {
      "cell_type": "code",
      "execution_count": 6,
      "metadata": {
        "colab": {
          "base_uri": "https://localhost:8080/"
        },
        "id": "1Vw7CbWP1ICL",
        "outputId": "680522bd-ae46-4f6f-b047-5d6f3f11a842"
      },
      "outputs": [
        {
          "name": "stdout",
          "output_type": "stream",
          "text": [
            "--2022-02-22 23:25:34--  https://www.dropbox.com/s/ljunvnl6lvmrzy7/2021_07_31_09_49_38_095550_unet_1024_search_mean_squared_error_pre_30_post_30_feat_32_power_1_depth_4_unet_True-0125-0.5732.h5?dl=0\n",
            "Resolving www.dropbox.com (www.dropbox.com)... 162.125.8.18, 2620:100:601b:18::a27d:812\n",
            "Connecting to www.dropbox.com (www.dropbox.com)|162.125.8.18|:443... connected.\n",
            "HTTP request sent, awaiting response... 301 Moved Permanently\n",
            "Location: /s/raw/ljunvnl6lvmrzy7/2021_07_31_09_49_38_095550_unet_1024_search_mean_squared_error_pre_30_post_30_feat_32_power_1_depth_4_unet_True-0125-0.5732.h5 [following]\n",
            "--2022-02-22 23:25:34--  https://www.dropbox.com/s/raw/ljunvnl6lvmrzy7/2021_07_31_09_49_38_095550_unet_1024_search_mean_squared_error_pre_30_post_30_feat_32_power_1_depth_4_unet_True-0125-0.5732.h5\n",
            "Reusing existing connection to www.dropbox.com:443.\n",
            "HTTP request sent, awaiting response... 302 Found\n",
            "Location: https://uc8c1030dd4d3520a840e5191a30.dl.dropboxusercontent.com/cd/0/inline/BgN9ZQBTJB91SUOW4LhrtRwdFhPqvjRy2Htj5-Uscd790wbrXGKDd3vhUEiyXVpS0zqhTaDD9Ir8VcxDZ5bMnG8OeZ-x_gMP--f5fXlBDWBLLNTysuIAB9MKbqp7zVaXQIKGjp8TGnYZby4dv9kEiyRC/file# [following]\n",
            "--2022-02-22 23:25:34--  https://uc8c1030dd4d3520a840e5191a30.dl.dropboxusercontent.com/cd/0/inline/BgN9ZQBTJB91SUOW4LhrtRwdFhPqvjRy2Htj5-Uscd790wbrXGKDd3vhUEiyXVpS0zqhTaDD9Ir8VcxDZ5bMnG8OeZ-x_gMP--f5fXlBDWBLLNTysuIAB9MKbqp7zVaXQIKGjp8TGnYZby4dv9kEiyRC/file\n",
            "Resolving uc8c1030dd4d3520a840e5191a30.dl.dropboxusercontent.com (uc8c1030dd4d3520a840e5191a30.dl.dropboxusercontent.com)... 162.125.3.15, 2620:100:6018:15::a27d:30f\n",
            "Connecting to uc8c1030dd4d3520a840e5191a30.dl.dropboxusercontent.com (uc8c1030dd4d3520a840e5191a30.dl.dropboxusercontent.com)|162.125.3.15|:443... connected.\n",
            "HTTP request sent, awaiting response... 200 OK\n",
            "Length: unspecified [text/plain]\n",
            "Saving to: ‘/content/2021_07_31_09_49_38_095550_unet_1024_search_mean_squared_error_pre_30_post_30_feat_32_power_1_depth_4_unet_True-0125-0.5732.h5’\n",
            "\n",
            "/content/2021_07_31     [ <=>                ]   1.08M  --.-KB/s    in 0.1s    \n",
            "\n",
            "2022-02-22 23:25:35 (10.6 MB/s) - ‘/content/2021_07_31_09_49_38_095550_unet_1024_search_mean_squared_error_pre_30_post_30_feat_32_power_1_depth_4_unet_True-0125-0.5732.h5’ saved [1131072]\n",
            "\n"
          ]
        }
      ],
      "source": [
        "!wget -O /content/2021_07_31_09_49_38_095550_unet_1024_search_mean_squared_error_pre_30_post_30_feat_32_power_1_depth_4_unet_True-0125-0.5732.h5 https://www.dropbox.com/s/ljunvnl6lvmrzy7/2021_07_31_09_49_38_095550_unet_1024_search_mean_squared_error_pre_30_post_30_feat_32_power_1_depth_4_unet_True-0125-0.5732.h5?dl=0"
      ]
    },
    {
      "cell_type": "markdown",
      "metadata": {
        "id": "1Nogrv6xClZQ"
      },
      "source": [
        "We initialize training objects."
      ]
    },
    {
      "cell_type": "code",
      "execution_count": 7,
      "metadata": {
        "colab": {
          "base_uri": "https://localhost:8080/"
        },
        "id": "5HMK5cRDC-gz",
        "outputId": "2da692b9-9784-450c-a0db-6cd3637b67ca"
      },
      "outputs": [
        {
          "name": "stderr",
          "output_type": "stream",
          "text": [
            "INFO:FineTuning:wrote /content/output_folder/2022_02_22_23_25_training_full_args.json\n",
            "INFO:FineTuning:wrote /content/output_folder/2022_02_22_23_25_finetuning.json\n",
            "INFO:FineTuning:wrote /content/output_folder/2022_02_22_23_25_generator.json\n",
            "INFO:FineTuning:wrote /content/output_folder/2022_02_22_23_25_test_generator.json\n"
          ]
        },
        {
          "name": "stdout",
          "output_type": "stream",
          "text": [
            "Starting fine-tuning\n",
            "WARNING:tensorflow:`period` argument is deprecated. Please use `save_freq` to specify the frequency in number of batches seen.\n"
          ]
        },
        {
          "name": "stderr",
          "output_type": "stream",
          "text": [
            "WARNING:tensorflow:`period` argument is deprecated. Please use `save_freq` to specify the frequency in number of batches seen.\n",
            "/usr/local/lib/python3.7/dist-packages/keras/optimizer_v2/rmsprop.py:130: UserWarning: The `lr` argument is deprecated, use `learning_rate` instead.\n",
            "  super(RMSprop, self).__init__(name, **kwargs)\n"
          ]
        },
        {
          "name": "stdout",
          "output_type": "stream",
          "text": [
            "100/100 [==============================] - 37s 277ms/step - loss: 0.6431\n"
          ]
        },
        {
          "name": "stderr",
          "output_type": "stream",
          "text": [
            "INFO:FineTuning:created objects for training\n"
          ]
        },
        {
          "name": "stdout",
          "output_type": "stream",
          "text": [
            "Epoch 1/2\n",
            "200/200 [==============================] - 143s 629ms/step - loss: 0.6440 - val_loss: 0.6427\n",
            "Epoch 2/2\n",
            "200/200 [==============================] - 149s 705ms/step - loss: 0.6413 - val_loss: 0.6428\n"
          ]
        },
        {
          "name": "stderr",
          "output_type": "stream",
          "text": [
            "INFO:FineTuning:fine tuning job finished - finalizing output model\n"
          ]
        },
        {
          "name": "stdout",
          "output_type": "stream",
          "text": [
            "Saved model to disk\n",
            "Fine-tuning finished\n"
          ]
        }
      ],
      "source": [
        "# Initialize meta-parameters objects\n",
        "finetuning_params = {}\n",
        "generator_param = {}\n",
        "generator_test_param = {}\n",
        "\n",
        "input_movie_path = '/content/ophys_experiment_501254258.h5'\n",
        "\n",
        "# It is recommended to use 10,000 frames for fine-tuning new files. Here we are limiting computation time for the workshop but this notebook can handle it.\n",
        "nb_frame_training = 500\n",
        "input_model_path = '/content/2021_07_31_09_49_38_095550_unet_1024_search_mean_squared_error_pre_30_post_30_feat_32_power_1_depth_4_unet_True-0125-0.5732.h5'\n",
        "output_dir = '/content/output_folder'\n",
        "\n",
        "# Those are parameters used for the Validation test generator.\n",
        "# Here the test is done on the beginning of the data but\n",
        "# this can be a separate file\n",
        "generator_param[\"name\"] = \"OphysGenerator\"  # Name of object (use SingleTifGenerator for tiff files)\n",
        "generator_param[\"pre_frame\"] = 30\n",
        "generator_param[\"post_frame\"] = 30\n",
        "generator_param[\"data_path\"] = input_movie_path\n",
        "generator_param[\"batch_size\"] = 1 # This is small because Colab GPUs do have very smaller memory. Increase on better cards. \n",
        "generator_param[\"start_frame\"] = 0\n",
        "generator_param[\"end_frame\"] = -1\n",
        "generator_param[\"total_samples\"] = nb_frame_training\n",
        "generator_param[\"pre_post_omission\"] = 0  # Number of frame omitted before and after the predicted frame\n",
        "\n",
        "generator_test_param[\"name\"] = \"OphysGenerator\"  # Name of object (use SingleTifGenerator for single tiff files or MultiContinuousTifGenerator for an ordered serie of Tiffs)\n",
        "generator_test_param[\"pre_frame\"] = 30\n",
        "generator_test_param[\"post_frame\"] = 30\n",
        "generator_test_param[\"data_path\"] = input_movie_path\n",
        "generator_test_param[\"batch_size\"] = 1\n",
        "generator_test_param[\"start_frame\"] = 0\n",
        "generator_test_param[\"end_frame\"] = -1\n",
        "generator_test_param[\"total_samples\"] = 100  # This is use to measure validation loss\n",
        "generator_test_param[\"pre_post_omission\"] = 0  # Number of frame omitted before and after the predicted frame\n",
        "\n",
        "\n",
        "# Those are parameters used for the training process\n",
        "finetuning_params[\"name\"] = \"transfer_trainer\"\n",
        "\n",
        "# Change this path to any model you wish to improve\n",
        "local_path = input_model_path\n",
        "finetuning_params[\"model_source\"] = {\n",
        "  \"local_path\": local_path\n",
        "}\n",
        "\n",
        "# An epoch is defined as the number of batches pulled from the dataset before measuring validation loss.\n",
        "# It is mostly for performance tracking \n",
        "# Because our datasets are VERY large. Often, we cannot\n",
        "# go through the entirety of the data so we define an epoch\n",
        "# slightly differently than is usual.\n",
        "steps_per_epoch = 200\n",
        "finetuning_params[\"steps_per_epoch\"] = steps_per_epoch\n",
        "finetuning_params[\n",
        "\"period_save\"\n",
        "] = 25\n",
        "# network model is potentially saved during training between a regular\n",
        "# nb of epochs. Useful to go back to models during training\n",
        "\n",
        "finetuning_params[\"learning_rate\"] = 0.0001\n",
        "finetuning_params[\"loss\"] = \"mean_squared_error\"\n",
        "finetuning_params[\"output_dir\"] = output_dir\n",
        "\n",
        "# Those are not needed when working with local files so turning off. \n",
        "finetuning_params[\"use_multiprocessing\"] = False\n",
        "finetuning_params[\"caching_validation\"] = False\n",
        "\n",
        "args = {\n",
        "\"finetuning_params\": finetuning_params,\n",
        "\"generator_params\": generator_param,\n",
        "\"test_generator_params\": generator_test_param,\n",
        "\"output_full_args\": True\n",
        "}\n",
        "\n",
        "finetuning_obj = FineTuning(input_data=args, args=[])\n",
        "\n",
        "print(\"Starting fine-tuning\")\n",
        "\n",
        "finetuning_obj.run()\n",
        "\n",
        "print(\"Fine-tuning finished\")\n",
        "\n",
        "\n"
      ]
    },
    {
      "cell_type": "code",
      "execution_count": 8,
      "metadata": {
        "colab": {
          "base_uri": "https://localhost:8080/"
        },
        "id": "CzKVMosLDCsb",
        "outputId": "29e930ad-96df-409e-8662-ffe87f6d6cd4"
      },
      "outputs": [
        {
          "name": "stderr",
          "output_type": "stream",
          "text": [
            "INFO:root:randomize should be set to False for inference.                         Overriding the parameter\n",
            "INFO:Inference:wrote /content/output_folder/inference_full_args.json\n",
            "INFO:Inference:wrote /content/output_folder/2022_02_22_23_25_inference.json\n",
            "INFO:Inference:wrote /content/output_folder/2022_02_22_23_25_generator.json\n"
          ]
        },
        {
          "name": "stdout",
          "output_type": "stream",
          "text": [
            "Preparing data for inference\n",
            "Starting inference\n"
          ]
        },
        {
          "name": "stderr",
          "output_type": "stream",
          "text": [
            "INFO:Inference:created objects for inference\n"
          ]
        },
        {
          "name": "stdout",
          "output_type": "stream",
          "text": [
            "Inference finished\n"
          ]
        }
      ],
      "source": [
        "print(\"Preparing data for inference\")\n",
        "# Initialize meta-parameters objects\n",
        "inference_param = {}\n",
        "\n",
        "# We are reusing the data generator for training here.\n",
        "generator_param[\"start_frame\"] = 0\n",
        "generator_param[\"end_frame\"] = 200\n",
        "\n",
        "\n",
        "# This is the name of the underlying inference class called\n",
        "inference_param[\"name\"] = \"core_inferrence\"\n",
        "\n",
        "# Where the output of the previous training is stored\n",
        "local_path = glob.glob(os.path.join(output_dir, \"*_transfer_model.h5\"))[0]\n",
        "\n",
        "inference_param[\"model_source\"] = {\n",
        "\"local_path\": local_path\n",
        "}\n",
        "\n",
        "base_file = os.path.splitext(os.path.basename(input_movie_path))[0]\n",
        "\n",
        "unique_time = str(datetime.datetime.now()).replace(\".\",\"-\").replace(\":\",\"-\").replace(\" \",\"-\")\n",
        "\n",
        "# Replace this path to where you want to store your output file\n",
        "inference_param[\n",
        "\"output_file\"\n",
        "] = output_dir+'/'+base_file+'-denoised-on-'+unique_time+'.h5'\n",
        "\n",
        "# This option is to add blank frames at the onset and end of the output\n",
        "# movie if some output frames are missing input frames to go through\n",
        "# the model. This could be present at the start and end of the movie.\n",
        "inference_param[\"output_padding\"] = True\n",
        "\n",
        "# this is an optional parameter to bring back output data to a given\n",
        "# precision. Read the CLI documentation for more details.\n",
        "# this is available through\n",
        "# 'python -m deepinterpolation.cli.inference --help'\n",
        "inference_param[\"output_datatype\"] = 'uint16'\n",
        "\n",
        "args = {\n",
        "\"generator_params\": generator_param,\n",
        "\"inference_params\": inference_param,\n",
        "\"output_full_args\": True\n",
        "}\n",
        "\n",
        "inference_obj = Inference(input_data=args, args=[])\n",
        "\n",
        "print(\"Starting inference\")\n",
        "inference_obj.run()\n",
        "\n",
        "print(\"Inference finished\")"
      ]
    }
  ],
  "metadata": {
    "accelerator": "GPU",
    "colab": {
      "collapsed_sections": [],
      "include_colab_link": true,
      "name": "2022-02-17- Example_Ophys_- Finetuning and Inference - Workshop.ipynb",
      "provenance": []
    },
    "kernelspec": {
      "display_name": "Python 3",
      "language": "python",
      "name": "python3"
    },
    "language_info": {
      "name": "python",
      "version": "3.8.10 (default, Jun 22 2022, 20:18:18) \n[GCC 9.4.0]"
    },
    "vscode": {
      "interpreter": {
        "hash": "916dbcbb3f70747c44a77c7bcd40155683ae19c65e1c03b4aa3499c5328201f1"
      }
    }
  },
  "nbformat": 4,
  "nbformat_minor": 0
}
